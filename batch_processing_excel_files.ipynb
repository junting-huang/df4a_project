{
  "nbformat": 4,
  "nbformat_minor": 0,
  "metadata": {
    "colab": {
      "name": "batch_processing_excel_files.ipynb",
      "provenance": [],
      "collapsed_sections": [],
      "include_colab_link": true
    },
    "kernelspec": {
      "display_name": "Python 3",
      "name": "python3"
    },
    "language_info": {
      "name": "python"
    }
  },
  "cells": [
    {
      "cell_type": "markdown",
      "metadata": {
        "id": "view-in-github",
        "colab_type": "text"
      },
      "source": [
        "<a href=\"https://colab.research.google.com/github/junting-huang/ds4a_project/blob/main/batch_processing_excel_files.ipynb\" target=\"_parent\"><img src=\"https://colab.research.google.com/assets/colab-badge.svg\" alt=\"Open In Colab\"/></a>"
      ]
    },
    {
      "cell_type": "code",
      "metadata": {
        "id": "NATkOAwz2xj_"
      },
      "source": [
        "import pandas as pd\n",
        "import numpy as np"
      ],
      "execution_count": null,
      "outputs": []
    },
    {
      "cell_type": "code",
      "metadata": {
        "id": "tz7dlGFxA0DR"
      },
      "source": [
        "# replace the titles of your excel files\n",
        "excel_files = ['38-1613280_KarmanosCancerInstitute_standardcharges.csv','38-1976271_McLarenBayRegion_standardcharges.csv','38-3161753_McLarenBaySpecialCare_standardcharges.csv','38-3426063_McLarenCaroCommunityHospital_standardcharges.csv','38-1420304_McLarenCentral_standardcharges.csv','38-2383119_McLarenFlint_standardcharges.csv','38-1434090_McLarenGreaterLansing_standardcharges.csv','38-2689033_McLarenLapeer_standardcharges.csv']\n",
        "\n",
        "# create an empty dataframe for the system\n",
        "df_system = pd.DataFrame()\n",
        "\n",
        "# read the list of excel files, specify the sheet if needed\n",
        "for individual_excel_file in excel_files:\n",
        "  df = pd.read_csv(individual_excel_file, encoding='windows-1252')\n",
        "  \n",
        "  # create a colum for the hospital name\n",
        "  df['hospital_name'] = individual_excel_file\n",
        "  df = df[['hospital_name','CPT','CHARGE DESCRIPTION','GROSS CHARGES','SELF PAY CASH PRICE','MIN NEGOTIATED RATE','MAX NEGOTIATED RATE']]\n",
        "  \n",
        "  # check cpt code column to see if they contain any of the codes\n",
        "  df['cpt_check'] = df['CPT'].str.contains(\"45378|59409|70551|70450|85025|85027|99203\")\n",
        "  df.drop(df.loc[df['cpt_check']!=True].index, inplace=True)\n",
        "  df_system = df_system.append(df)\n",
        "\n",
        "# rename the new csv file\n",
        "df_system.to_csv('mclaren.csv')"
      ],
      "execution_count": null,
      "outputs": []
    }
  ]
}
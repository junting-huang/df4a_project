{
  "nbformat": 4,
  "nbformat_minor": 0,
  "metadata": {
    "colab": {
      "name": "batch_processing_excel_files.ipynb",
      "provenance": [],
      "collapsed_sections": []
    },
    "kernelspec": {
      "display_name": "Python 3",
      "name": "python3"
    },
    "language_info": {
      "name": "python"
    }
  },
  "cells": [
    {
      "cell_type": "code",
      "metadata": {
        "id": "NATkOAwz2xj_"
      },
      "source": [
        "import pandas as pd\n",
        "import numpy as np"
      ],
      "execution_count": null,
      "outputs": []
    },
    {
      "cell_type": "code",
      "metadata": {
        "id": "tz7dlGFxA0DR"
      },
      "source": [
        "#replace the titles of your excel files\n",
        "excel_files = ['38-1613280_KarmanosCancerInstitute_standardcharges.csv','38-1976271_McLarenBayRegion_standardcharges.csv',\n",
        "               '38-3161753_McLarenBaySpecialCare_standardcharges.csv','38-3426063_McLarenCaroCommunityHospital_standardcharges.csv',\n",
        "               '38-1420304_McLarenCentral_standardcharges.csv','38-2383119_McLarenFlint_standardcharges.csv',\n",
        "               '38-1434090_McLarenGreaterLansing_standardcharges.csv','38-2689033_McLarenLapeer_standardcharges.csv']\n",
        "\n",
        "df_system = pd.DataFrame()\n",
        "\n",
        "for individual_excel_file in excel_files:\n",
        "  df = pd.read_csv(individual_excel_file, encoding='windows-1252')\n",
        "  \n",
        "  df['hospital_name'] = individual_excel_file\n",
        "  df = df[['hospital_name','CPT','CHARGE DESCRIPTION','GROSS CHARGES','SELF PAY CASH PRICE','MIN NEGOTIATED RATE','MAX NEGOTIATED RATE']]\n",
        "\n",
        "  df['cpt_check'] = df['CPT'].str.contains(\"45378|59409|70551|70450|85025|85027|99203\")\n",
        "  df.drop(df.loc[df['cpt_check']!=True].index, inplace=True)\n",
        "  df_system = df_system.append(df)\n",
        "\n",
        "#rename the new csv file\n",
        "df_system.to_csv('mclaren_p1.csv')"
      ],
      "execution_count": null,
      "outputs": []
    }
  ]
}
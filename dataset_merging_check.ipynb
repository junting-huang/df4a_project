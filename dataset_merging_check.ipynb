{
  "nbformat": 4,
  "nbformat_minor": 0,
  "metadata": {
    "colab": {
      "name": "dataset_merging_check.ipynb",
      "provenance": [],
      "collapsed_sections": []
    },
    "kernelspec": {
      "name": "python3",
      "display_name": "Python 3"
    },
    "language_info": {
      "name": "python"
    }
  },
  "cells": [
    {
      "cell_type": "code",
      "metadata": {
        "id": "-IjQrv37RLBu"
      },
      "source": [
        "import pandas as pd"
      ],
      "execution_count": null,
      "outputs": []
    },
    {
      "cell_type": "code",
      "metadata": {
        "id": "aHG4T5QoR0FZ"
      },
      "source": [
        "df_hospital = pd.read_csv('df_hospital_clean.csv')\n",
        "df_price = pd.read_csv('df_price_clean.csv')\n",
        "df_population = pd.read_csv('df_population.csv')"
      ],
      "execution_count": null,
      "outputs": []
    },
    {
      "cell_type": "code",
      "metadata": {
        "colab": {
          "base_uri": "https://localhost:8080/"
        },
        "id": "IK0Et9UFSWGa",
        "outputId": "30881f2b-4ee1-400a-d70b-225ee8b4dded"
      },
      "source": [
        "# merging preparation\n",
        "hospital_list = set(df_hospital['hospital_name'].tolist())\n",
        "price_list = set(df_price['hospital_name'].tolist())\n",
        "county_list = set(df_population['county_name'].tolist())\n",
        "hospital_county_list = set(df_hospital['county_name'].tolist())\n",
        "\n",
        "cat_1 = price_list - hospital_list \n",
        "cat_2 = hospital_list - price_list\n",
        "cat_3 = hospital_county_list - county_list\n",
        "cat_4 = county_list - hospital_county_list\n",
        "\n",
        "print(\n",
        "    f'This hospital has pricing data but not in the hospital dataframe: {cat_1}\\n'\n",
        "    f'This hospital has no pricing data, but is in the hospital dataframe: {cat_2}\\n'\n",
        "    f'This is not a county name, but is in the hospital dataframe: {cat_3}\\n'\n",
        "    f'This county has no hospitals: {cat_4}\\n'\n",
        "    )\n"
      ],
      "execution_count": null,
      "outputs": [
        {
          "output_type": "stream",
          "text": [
            "This hospital has pricing data but not in the hospital dataframe: {'SelectMedical_NorthwestDetroit'}\n",
            "This hospital has no pricing data, but is in the hospital dataframe: {'Ascension_StJoseph', 'LifePoint_Bell', 'Ascension_BrightonCenter', 'Spectrum Health_LakelandHospitalNiles', 'UMchi_CSMott', 'SelectMedical_Muskegon', 'LifePoint_Marquette', 'Ascension_ProvidenceSouthfieldCampus', 'LifePoint_Portage', 'Ascension_ProvidenceNoviCampus', 'Ascension_RiverDistrict', 'Ascension_MacombOaklandMadisonHeightsCampus', 'Trinity_MercyHealthHackley', 'DetroitMedicalCenter_Rehabilitation', 'Ascension_MacombOaklandWarrenCampus', 'Ascension_StJohn', 'MunsonHealthCare_Mackinac', 'Ascension_Standish', 'UMchi_HealthCenter', 'Ascension_StMarys'}\n",
            "This is not a county name, but is in the hospital dataframe: set()\n",
            "This county has no hospitals: {'Montmorency', 'Missaukee', 'Keweenaw', 'Schoolcraft', 'Shiawassee', 'Hillsdale', 'Luce', 'Alcona', 'Roscommon', 'Oscoda', 'Chippewa', 'Presque Isle', 'Lake', 'Sanilac', 'Antrim', 'Menominee', 'St. Joseph', 'Dickinson', 'Alger', 'Baraga', 'Leelanau'}\n",
            "\n"
          ],
          "name": "stdout"
        }
      ]
    }
  ]
}
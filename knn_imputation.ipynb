{
  "nbformat": 4,
  "nbformat_minor": 0,
  "metadata": {
    "colab": {
      "name": "knn_imputation.ipynb",
      "provenance": [],
      "collapsed_sections": []
    },
    "kernelspec": {
      "name": "python3",
      "display_name": "Python 3"
    },
    "language_info": {
      "name": "python"
    }
  },
  "cells": [
    {
      "cell_type": "code",
      "metadata": {
        "id": "9ck8F-gHksVO"
      },
      "source": [
        "import pandas as pd\n",
        "import numpy as np"
      ],
      "execution_count": null,
      "outputs": []
    },
    {
      "cell_type": "code",
      "metadata": {
        "id": "hUzISQBImq3J"
      },
      "source": [
        "#read the file\n",
        "df = pd.read_csv('df_price_clean.csv')\n",
        "\n",
        "#drop non-numeric values\n",
        "df = df.drop(['hospital_name','cpt_code','description'], axis=1)\n",
        "\n",
        "#replace blank with NaN\n",
        "df.replace(r'^\\s+$', np.nan, regex=True)"
      ],
      "execution_count": null,
      "outputs": []
    },
    {
      "cell_type": "code",
      "metadata": {
        "colab": {
          "base_uri": "https://localhost:8080/"
        },
        "id": "9wJ5RKQrltLr",
        "outputId": "574680a3-90e1-42c8-fa81-0869d76b98fe"
      },
      "source": [
        "#check missing values\n",
        "df.isna().sum()"
      ],
      "execution_count": null,
      "outputs": [
        {
          "output_type": "execute_result",
          "data": {
            "text/plain": [
              "gross_charge     23\n",
              "cash_price      161\n",
              "min_ng          155\n",
              "max_ng          155\n",
              "dtype: int64"
            ]
          },
          "metadata": {
            "tags": []
          },
          "execution_count": 32
        }
      ]
    },
    {
      "cell_type": "code",
      "metadata": {
        "colab": {
          "base_uri": "https://localhost:8080/",
          "height": 204
        },
        "id": "J6YOh6rDmVOT",
        "outputId": "bfca8927-ece7-4175-9227-a1c20dc638be"
      },
      "source": [
        "#feature scaling\n",
        "from sklearn.impute import KNNImputer\n",
        "from sklearn.preprocessing import MinMaxScaler\n",
        "\n",
        "scaler = MinMaxScaler()\n",
        "df = pd.DataFrame(scaler.fit_transform(df), columns = df.columns)\n",
        "df.head()"
      ],
      "execution_count": null,
      "outputs": [
        {
          "output_type": "execute_result",
          "data": {
            "text/html": [
              "<div>\n",
              "<style scoped>\n",
              "    .dataframe tbody tr th:only-of-type {\n",
              "        vertical-align: middle;\n",
              "    }\n",
              "\n",
              "    .dataframe tbody tr th {\n",
              "        vertical-align: top;\n",
              "    }\n",
              "\n",
              "    .dataframe thead th {\n",
              "        text-align: right;\n",
              "    }\n",
              "</style>\n",
              "<table border=\"1\" class=\"dataframe\">\n",
              "  <thead>\n",
              "    <tr style=\"text-align: right;\">\n",
              "      <th></th>\n",
              "      <th>gross_charge</th>\n",
              "      <th>cash_price</th>\n",
              "      <th>min_ng</th>\n",
              "      <th>max_ng</th>\n",
              "    </tr>\n",
              "  </thead>\n",
              "  <tbody>\n",
              "    <tr>\n",
              "      <th>0</th>\n",
              "      <td>0.100927</td>\n",
              "      <td>0.087456</td>\n",
              "      <td>0.051880</td>\n",
              "      <td>0.026042</td>\n",
              "    </tr>\n",
              "    <tr>\n",
              "      <th>1</th>\n",
              "      <td>0.088305</td>\n",
              "      <td>0.076517</td>\n",
              "      <td>0.143375</td>\n",
              "      <td>0.069824</td>\n",
              "    </tr>\n",
              "    <tr>\n",
              "      <th>2</th>\n",
              "      <td>0.003691</td>\n",
              "      <td>0.003160</td>\n",
              "      <td>0.001524</td>\n",
              "      <td>0.000943</td>\n",
              "    </tr>\n",
              "    <tr>\n",
              "      <th>3</th>\n",
              "      <td>0.217498</td>\n",
              "      <td>0.188485</td>\n",
              "      <td>NaN</td>\n",
              "      <td>NaN</td>\n",
              "    </tr>\n",
              "    <tr>\n",
              "      <th>4</th>\n",
              "      <td>0.007027</td>\n",
              "      <td>0.006076</td>\n",
              "      <td>NaN</td>\n",
              "      <td>NaN</td>\n",
              "    </tr>\n",
              "  </tbody>\n",
              "</table>\n",
              "</div>"
            ],
            "text/plain": [
              "   gross_charge  cash_price    min_ng    max_ng\n",
              "0      0.100927    0.087456  0.051880  0.026042\n",
              "1      0.088305    0.076517  0.143375  0.069824\n",
              "2      0.003691    0.003160  0.001524  0.000943\n",
              "3      0.217498    0.188485       NaN       NaN\n",
              "4      0.007027    0.006076       NaN       NaN"
            ]
          },
          "metadata": {
            "tags": []
          },
          "execution_count": 33
        }
      ]
    },
    {
      "cell_type": "code",
      "metadata": {
        "id": "lgInMLHen-XI"
      },
      "source": [
        "#imputation\n",
        "from sklearn.impute import KNNImputer\n",
        "imputer = KNNImputer(n_neighbors=5)\n",
        "df = pd.DataFrame(imputer.fit_transform(df),columns = df.columns)"
      ],
      "execution_count": null,
      "outputs": []
    },
    {
      "cell_type": "code",
      "metadata": {
        "id": "WC5BFq2WoPQl"
      },
      "source": [
        "#inverse transform\n",
        "df_new = scaler.inverse_transform(df)\n",
        "df_new = pd.DataFrame(df_new)"
      ],
      "execution_count": null,
      "outputs": []
    },
    {
      "cell_type": "code",
      "metadata": {
        "id": "t2GzH0ukquHi"
      },
      "source": [
        "#save to new csv\n",
        "\n",
        "df_old = pd.read_csv('df_price_clean.csv')\n",
        "df_old = df_old[['hospital_name','cpt_code','description']]\n",
        "\n",
        "df_final = df_old.join(df_new)\n",
        "df_final = df_final.rename(columns={0: 'gross_charge', 1: 'cash_price',2:'min_ng',3:'max_ng'})\n",
        "\n",
        "df_final.to_csv('df_price_imputated.csv')"
      ],
      "execution_count": null,
      "outputs": []
    }
  ]
}